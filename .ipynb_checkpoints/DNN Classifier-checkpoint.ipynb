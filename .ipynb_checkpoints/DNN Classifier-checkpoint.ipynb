{
 "cells": [
  {
   "cell_type": "code",
   "execution_count": 17,
   "metadata": {},
   "outputs": [],
   "source": [
    "import pandas as pd\n",
    "import tensorflow as tf\n",
    "tf.reset_default_graph()\n",
    "import numpy as np\n",
    "from sklearn.cross_validation import train_test_split\n",
    "import matplotlib.pyplot as plt\n",
    "%matplotlib inline"
   ]
  },
  {
   "cell_type": "code",
   "execution_count": 74,
   "metadata": {},
   "outputs": [
    {
     "name": "stderr",
     "output_type": "stream",
     "text": [
      "C:\\Anaconda3\\envs\\tensor\\lib\\site-packages\\IPython\\core\\interactiveshell.py:2717: DtypeWarning: Columns (19,55) have mixed types. Specify dtype option on import or set low_memory=False.\n",
      "  interactivity=interactivity, compiler=compiler, result=result)\n"
     ]
    }
   ],
   "source": [
    "df = pd.read_csv('./loan.csv')\n"
   ]
  },
  {
   "cell_type": "code",
   "execution_count": 75,
   "metadata": {},
   "outputs": [],
   "source": [
    "df.term.replace(to_replace=[' 36 months', ' 60 months'],value=[1,0],inplace=True)\n",
    "df.grade.replace(to_replace=['B', 'C', 'A', 'E', 'F', 'D', 'G'],value=[2,3,1,5,6,4,7],inplace=True)\n",
    "positive = ['Fully Paid']\n",
    "\n",
    "negative = ['Charged Off']\n",
    "\n",
    "# filter out any word that is not within positive & negative\n",
    "##\"Does not meet the credit policy. Status:1\"\n",
    "##\"Does not meet the credit policy. Status:0\" are filtered out above\n",
    "\n",
    "df = df[df['loan_status'].isin(positive + negative)].copy()\n",
    "\n",
    "df['loan_status'] = df['loan_status'].isin(positive).astype(int) #.astype(int) will print \"True\" as \"1\"\n",
    "df.emp_length.replace(to_replace=['10+ years', '< 1 year', '3 years', '9 years', '4 years', '5 years',\n",
    "       '1 year', '6 years', '2 years', '7 years', '8 years', 'n/a'],value=[10,0,1,3,9,4,5,1,6,2,7,8]\n",
    "                      ,inplace=True\n",
    "                     )\n",
    "positive =['OWN','MORTGAGE']\n",
    "negative = ['RENT','NONE']\n",
    "df = df[df.home_ownership.isin(positive+negative).copy()]\n",
    "df['home_ownership'] = df['home_ownership'].isin(positive).astype(int)\n",
    "v = ['Verified', 'Source Verified']\n",
    "nv = ['Not Verified']\n",
    "df = df[df.verification_status.isin(v+nv).copy()]\n",
    "df.verification_status= df.verification_status.isin(v).astype(int)\n",
    "df['addr_state'] = pd.factorize(df.addr_state)[0] + 1\n",
    "df.initial_list_status.replace(to_replace=['w','f'],value=[0,1],inplace=True)\n",
    "numerics = ['int16', 'int32', 'int64', 'float16', 'float32', 'float64']\n",
    "\n",
    "newdf = df.select_dtypes(include=numerics)\n",
    "newdf= newdf.dropna(axis=1)\n",
    "y = newdf['loan_status']\n",
    "del newdf['loan_status']\n",
    "del newdf['id']\n",
    "del newdf['member_id']\n",
    "X=newdf"
   ]
  },
  {
   "cell_type": "code",
   "execution_count": 76,
   "metadata": {
    "collapsed": true
   },
   "outputs": [],
   "source": [
    "X_train, X_test, y_train, y_test = train_test_split(X, y, test_size=0.30, random_state=101)"
   ]
  },
  {
   "cell_type": "code",
   "execution_count": 135,
   "metadata": {
    "collapsed": true
   },
   "outputs": [],
   "source": [
    "from sklearn.preprocessing import MinMaxScaler\n",
    "scaler = MinMaxScaler()"
   ]
  },
  {
   "cell_type": "code",
   "execution_count": 136,
   "metadata": {
    "collapsed": true
   },
   "outputs": [],
   "source": [
    "scaled_x_train = scaler.fit_transform(X_train)\n",
    "scaled_x_test = scaler.transform(X_test)"
   ]
  },
  {
   "cell_type": "code",
   "execution_count": 137,
   "metadata": {
    "collapsed": true
   },
   "outputs": [],
   "source": [
    "from tensorflow.contrib.keras import layers,models,losses,optimizers,metrics,activations"
   ]
  },
  {
   "cell_type": "code",
   "execution_count": 138,
   "metadata": {
    "collapsed": true
   },
   "outputs": [],
   "source": [
    "model = models.Sequential()"
   ]
  },
  {
   "cell_type": "code",
   "execution_count": 139,
   "metadata": {},
   "outputs": [],
   "source": [
    "# model.add(layers.InputLayer(input_shape=[34]))\n",
    "model.add(layers.Dense(units=32,activation='relu',input_dim=32))\n",
    "model.add(layers.Dense(units=32,activation='relu'))\n",
    "model.add(layers.Dense(units=2,activation='softmax'))"
   ]
  },
  {
   "cell_type": "code",
   "execution_count": 150,
   "metadata": {},
   "outputs": [],
   "source": [
    "model.compile(optimizer='adam',loss='sparse_categorical_crossentropy',metrics=['accuracy'])"
   ]
  },
  {
   "cell_type": "code",
   "execution_count": 141,
   "metadata": {
    "scrolled": true
   },
   "outputs": [
    {
     "name": "stdout",
     "output_type": "stream",
     "text": [
      "Epoch 1/10\n",
      "176980/176980 [==============================] - 7s - loss: 0.0385 - acc: 0.9872       ETA: 23s - loss: 0 - ETA: 2s - loss: 0.0512 - acc: 0 - ETA: 2s - loss: 0.04 - ETA: 1s - loss: 0.0448 - ETA: 1s - loss: \n",
      "Epoch 2/10\n",
      "176980/176980 [==============================] - 7s - loss: 0.0140 - acc: 0.9968     \n",
      "Epoch 3/10\n",
      "176980/176980 [==============================] - 6s - loss: 0.0121 - acc: 0.9974     \n",
      "Epoch 4/10\n",
      "176980/176980 [==============================] - 6s - loss: 0.0113 - acc: 0.9976     - ETA: 0s - loss: 0.0113\n",
      "Epoch 5/10\n",
      "176980/176980 [==============================] - 6s - loss: 0.0104 - acc: 0.9979     - ETA: 2s - loss:  - ETA: 1s - loss: 0.0 - ETA: 0s - loss: 0.0103 -\n",
      "Epoch 6/10\n",
      "176980/176980 [==============================] - 7s - loss: 0.0099 - acc: 0.9981     \n",
      "Epoch 7/10\n",
      "176980/176980 [==============================] - 6s - loss: 0.0093 - acc: 0.9981     - ETA: 3s - loss: 0. - ETA: 0s - loss: 0.00\n",
      "Epoch 8/10\n",
      "176980/176980 [==============================] - 6s - loss: 0.0088 - acc: 0.9983     - ETA: 0s - loss: \n",
      "Epoch 9/10\n",
      "176980/176980 [==============================] - 6s - loss: 0.0085 - acc: 0.9983     - ETA: 1s - loss: 0.0089 - acc:  - ETA: 1s - \n",
      "Epoch 10/10\n",
      "176980/176980 [==============================] - 6s - loss: 0.0083 - acc: 0.9984     - ETA: 2s -  - ETA: 0s - loss: 0.0081 - acc: 0 - ETA: 0s - loss: 0.008\n"
     ]
    },
    {
     "data": {
      "text/plain": [
       "<tensorflow.python.keras._impl.keras.callbacks.History at 0xf8ae47a550>"
      ]
     },
     "execution_count": 141,
     "metadata": {},
     "output_type": "execute_result"
    }
   ],
   "source": [
    "model.fit(scaled_x_train,y_train,epochs=10)"
   ]
  },
  {
   "cell_type": "code",
   "execution_count": 146,
   "metadata": {},
   "outputs": [
    {
     "name": "stdout",
     "output_type": "stream",
     "text": [
      "74240/75849 [============================>.] - ETA: 0s"
     ]
    }
   ],
   "source": [
    "y_pred = model.predict_classes(scaled_x_test)"
   ]
  },
  {
   "cell_type": "code",
   "execution_count": 147,
   "metadata": {
    "collapsed": true
   },
   "outputs": [],
   "source": [
    "from sklearn.metrics import classification_report"
   ]
  },
  {
   "cell_type": "code",
   "execution_count": 148,
   "metadata": {},
   "outputs": [
    {
     "name": "stdout",
     "output_type": "stream",
     "text": [
      "             precision    recall  f1-score   support\n",
      "\n",
      "          0       1.00      0.99      1.00     13588\n",
      "          1       1.00      1.00      1.00     62261\n",
      "\n",
      "avg / total       1.00      1.00      1.00     75849\n",
      "\n"
     ]
    }
   ],
   "source": [
    "print(classification_report(y_test,y_pred))"
   ]
  },
  {
   "cell_type": "code",
   "execution_count": null,
   "metadata": {
    "collapsed": true
   },
   "outputs": [],
   "source": []
  }
 ],
 "metadata": {
  "kernelspec": {
   "display_name": "tensor",
   "language": "python",
   "name": "tensor"
  },
  "language_info": {
   "codemirror_mode": {
    "name": "ipython",
    "version": 3
   },
   "file_extension": ".py",
   "mimetype": "text/x-python",
   "name": "python",
   "nbconvert_exporter": "python",
   "pygments_lexer": "ipython3",
   "version": "3.5.3"
  }
 },
 "nbformat": 4,
 "nbformat_minor": 2
}
