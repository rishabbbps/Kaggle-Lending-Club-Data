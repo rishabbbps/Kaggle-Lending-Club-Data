{
 "cells": [
  {
   "cell_type": "code",
   "execution_count": 1,
   "metadata": {},
   "outputs": [
    {
     "name": "stderr",
     "output_type": "stream",
     "text": [
      "C:\\Anaconda3\\envs\\tensor\\lib\\site-packages\\sklearn\\cross_validation.py:44: DeprecationWarning: This module was deprecated in version 0.18 in favor of the model_selection module into which all the refactored classes and functions are moved. Also note that the interface of the new CV iterators are different from that of this module. This module will be removed in 0.20.\n",
      "  \"This module will be removed in 0.20.\", DeprecationWarning)\n"
     ]
    }
   ],
   "source": [
    "import pandas as pd\n",
    "import tensorflow as tf\n",
    "import numpy as np\n",
    "from sklearn.cross_validation import train_test_split\n",
    "from sklearn.metrics import roc_curve, auc"
   ]
  },
  {
   "cell_type": "code",
   "execution_count": 2,
   "metadata": {},
   "outputs": [
    {
     "name": "stderr",
     "output_type": "stream",
     "text": [
      "C:\\Anaconda3\\envs\\tensor\\lib\\site-packages\\IPython\\core\\interactiveshell.py:2717: DtypeWarning: Columns (19,55) have mixed types. Specify dtype option on import or set low_memory=False.\n",
      "  interactivity=interactivity, compiler=compiler, result=result)\n"
     ]
    },
    {
     "data": {
      "text/plain": [
       "(887379, 74)"
      ]
     },
     "execution_count": 2,
     "metadata": {},
     "output_type": "execute_result"
    }
   ],
   "source": [
    "df = pd.read_csv('./loan.csv')\n",
    "df.shape"
   ]
  },
  {
   "cell_type": "markdown",
   "metadata": {},
   "source": [
    "## Changing Categorical data to Numeric data"
   ]
  },
  {
   "cell_type": "code",
   "execution_count": 10,
   "metadata": {
    "scrolled": true
   },
   "outputs": [
    {
     "data": {
      "text/plain": [
       "array([' 36 months', ' 60 months'], dtype=object)"
      ]
     },
     "execution_count": 10,
     "metadata": {},
     "output_type": "execute_result"
    }
   ],
   "source": [
    "# term\n",
    "df.term.unique()"
   ]
  },
  {
   "cell_type": "code",
   "execution_count": 11,
   "metadata": {
    "collapsed": true
   },
   "outputs": [],
   "source": [
    "df.term.replace(to_replace=[' 36 months', ' 60 months'],value=[1,0],inplace=True)"
   ]
  },
  {
   "cell_type": "code",
   "execution_count": 12,
   "metadata": {},
   "outputs": [
    {
     "data": {
      "text/plain": [
       "array(['B', 'C', 'A', 'E', 'F', 'D', 'G'], dtype=object)"
      ]
     },
     "execution_count": 12,
     "metadata": {},
     "output_type": "execute_result"
    }
   ],
   "source": [
    "#grade\n",
    "df.grade.unique()"
   ]
  },
  {
   "cell_type": "code",
   "execution_count": 13,
   "metadata": {
    "collapsed": true
   },
   "outputs": [],
   "source": [
    "df.grade.replace(to_replace=['B', 'C', 'A', 'E', 'F', 'D', 'G'],value=[2,3,1,5,6,4,7],inplace=True)"
   ]
  },
  {
   "cell_type": "code",
   "execution_count": 14,
   "metadata": {},
   "outputs": [
    {
     "data": {
      "text/plain": [
       "array(['Fully Paid', 'Charged Off', 'Current', 'Default',\n",
       "       'Late (31-120 days)', 'In Grace Period', 'Late (16-30 days)',\n",
       "       'Does not meet the credit policy. Status:Fully Paid',\n",
       "       'Does not meet the credit policy. Status:Charged Off', 'Issued'], dtype=object)"
      ]
     },
     "execution_count": 14,
     "metadata": {},
     "output_type": "execute_result"
    }
   ],
   "source": [
    "# loan_status\n",
    "df.loan_status.unique()"
   ]
  },
  {
   "cell_type": "code",
   "execution_count": 15,
   "metadata": {
    "collapsed": true
   },
   "outputs": [],
   "source": [
    "positive = ['Fully Paid']\n",
    "\n",
    "negative = ['Charged Off']\n",
    "\n",
    "# filter out any word that is not within positive & negative\n",
    "##\"Does not meet the credit policy. Status:1\"\n",
    "##\"Does not meet the credit policy. Status:0\" are filtered out above\n",
    "\n",
    "df = df[df['loan_status'].isin(positive + negative)].copy()\n",
    "\n",
    "df['loan_status'] = df['loan_status'].isin(positive).astype(int) #.astype(int) will print \"True\" as \"1\""
   ]
  },
  {
   "cell_type": "code",
   "execution_count": 16,
   "metadata": {},
   "outputs": [
    {
     "data": {
      "text/plain": [
       "array(['10+ years', '< 1 year', '3 years', '9 years', '4 years', '5 years',\n",
       "       '1 year', '6 years', '2 years', '7 years', '8 years', 'n/a'], dtype=object)"
      ]
     },
     "execution_count": 16,
     "metadata": {},
     "output_type": "execute_result"
    }
   ],
   "source": [
    "#emp_length\n",
    "df.emp_length.unique()"
   ]
  },
  {
   "cell_type": "code",
   "execution_count": 17,
   "metadata": {
    "collapsed": true
   },
   "outputs": [],
   "source": [
    "df.emp_length.replace(to_replace=['10+ years', '< 1 year', '3 years', '9 years', '4 years', '5 years',\n",
    "       '1 year', '6 years', '2 years', '7 years', '8 years', 'n/a'],value=[10,0,1,3,9,4,5,1,6,2,7,8]\n",
    "                      ,inplace=True\n",
    "                     )"
   ]
  },
  {
   "cell_type": "code",
   "execution_count": 18,
   "metadata": {},
   "outputs": [
    {
     "data": {
      "text/plain": [
       "array(['RENT', 'OWN', 'MORTGAGE', 'OTHER', 'NONE', 'ANY'], dtype=object)"
      ]
     },
     "execution_count": 18,
     "metadata": {},
     "output_type": "execute_result"
    }
   ],
   "source": [
    "# home ownership\n",
    "df.home_ownership.unique()"
   ]
  },
  {
   "cell_type": "code",
   "execution_count": 19,
   "metadata": {
    "collapsed": true
   },
   "outputs": [],
   "source": [
    "positive =['OWN','MORTGAGE']\n",
    "negative = ['RENT','NONE']\n",
    "df = df[df.home_ownership.isin(positive+negative).copy()]\n",
    "df['home_ownership'] = df['home_ownership'].isin(positive).astype(int)"
   ]
  },
  {
   "cell_type": "code",
   "execution_count": 20,
   "metadata": {},
   "outputs": [
    {
     "data": {
      "text/plain": [
       "0    106000\n",
       "1    146829\n",
       "dtype: int64"
      ]
     },
     "execution_count": 20,
     "metadata": {},
     "output_type": "execute_result"
    }
   ],
   "source": [
    "pd.value_counts(df['home_ownership'].values, sort=False)"
   ]
  },
  {
   "cell_type": "code",
   "execution_count": 21,
   "metadata": {},
   "outputs": [
    {
     "data": {
      "text/plain": [
       "array(['Verified', 'Source Verified', 'Not Verified'], dtype=object)"
      ]
     },
     "execution_count": 21,
     "metadata": {},
     "output_type": "execute_result"
    }
   ],
   "source": [
    "# verification_status\n",
    "df.verification_status.unique()"
   ]
  },
  {
   "cell_type": "code",
   "execution_count": 22,
   "metadata": {},
   "outputs": [
    {
     "data": {
      "text/plain": [
       "Not Verified       85992\n",
       "Verified           92840\n",
       "Source Verified    73997\n",
       "dtype: int64"
      ]
     },
     "execution_count": 22,
     "metadata": {},
     "output_type": "execute_result"
    }
   ],
   "source": [
    "pd.value_counts(df['verification_status'].values, sort=False)"
   ]
  },
  {
   "cell_type": "code",
   "execution_count": 23,
   "metadata": {
    "collapsed": true
   },
   "outputs": [],
   "source": [
    "v = ['Verified', 'Source Verified']\n",
    "nv = ['Not Verified']\n",
    "df = df[df.verification_status.isin(v+nv).copy()]\n",
    "df.verification_status= df.verification_status.isin(v).astype(int)\n",
    "\n",
    "# df.verification_status.replace(to_replace=['Verified', 'Source Verified', 'Not Verified'], value[1,1,0],inplace=True)"
   ]
  },
  {
   "cell_type": "code",
   "execution_count": 24,
   "metadata": {},
   "outputs": [
    {
     "data": {
      "text/plain": [
       "array(['n', 'y'], dtype=object)"
      ]
     },
     "execution_count": 24,
     "metadata": {},
     "output_type": "execute_result"
    }
   ],
   "source": [
    "# pymt_plan \n",
    "df.pymnt_plan.unique()"
   ]
  },
  {
   "cell_type": "code",
   "execution_count": 25,
   "metadata": {},
   "outputs": [
    {
     "data": {
      "text/plain": [
       "y         2\n",
       "n    252827\n",
       "dtype: int64"
      ]
     },
     "execution_count": 25,
     "metadata": {},
     "output_type": "execute_result"
    }
   ],
   "source": [
    "# but no need because \n",
    "pd.value_counts(df['pymnt_plan'].values, sort=False)"
   ]
  },
  {
   "cell_type": "code",
   "execution_count": 26,
   "metadata": {},
   "outputs": [
    {
     "data": {
      "text/plain": [
       "array(['AZ', 'GA', 'IL', 'CA', 'TX', 'VA', 'MO', 'CT', 'UT', 'FL', 'NY',\n",
       "       'PA', 'MN', 'NJ', 'OR', 'KY', 'OH', 'SC', 'RI', 'LA', 'MA', 'WA',\n",
       "       'WI', 'AL', 'NV', 'AK', 'CO', 'MD', 'WV', 'VT', 'MI', 'DC', 'SD',\n",
       "       'NC', 'AR', 'NM', 'KS', 'HI', 'OK', 'MT', 'WY', 'NH', 'DE', 'MS',\n",
       "       'TN', 'IA', 'NE', 'ID', 'IN', 'ME', 'ND'], dtype=object)"
      ]
     },
     "execution_count": 26,
     "metadata": {},
     "output_type": "execute_result"
    }
   ],
   "source": [
    "# addr_state\n",
    "df.addr_state.unique()"
   ]
  },
  {
   "cell_type": "code",
   "execution_count": 255,
   "metadata": {
    "collapsed": true,
    "scrolled": true
   },
   "outputs": [],
   "source": [
    "df['addr_state'] = pd.factorize(df.addr_state)[0] + 1"
   ]
  },
  {
   "cell_type": "code",
   "execution_count": 28,
   "metadata": {},
   "outputs": [
    {
     "data": {
      "text/plain": [
       "f    181947\n",
       "w     70882\n",
       "dtype: int64"
      ]
     },
     "execution_count": 28,
     "metadata": {},
     "output_type": "execute_result"
    }
   ],
   "source": [
    "# value_counts\n",
    "pd.value_counts(df['initial_list_status'].values, sort=False)"
   ]
  },
  {
   "cell_type": "code",
   "execution_count": 29,
   "metadata": {
    "collapsed": true
   },
   "outputs": [],
   "source": [
    "df.initial_list_status.replace(to_replace=['w','f'],value=[0,1],inplace=True)"
   ]
  },
  {
   "cell_type": "code",
   "execution_count": 30,
   "metadata": {
    "collapsed": true
   },
   "outputs": [],
   "source": [
    "numerics = ['int16', 'int32', 'int64', 'float16', 'float32', 'float64']\n",
    "\n",
    "newdf = df.select_dtypes(include=numerics)\n",
    "newdf= newdf.dropna(axis=1)"
   ]
  },
  {
   "cell_type": "code",
   "execution_count": 32,
   "metadata": {
    "collapsed": true
   },
   "outputs": [],
   "source": [
    "y = newdf['loan_status']\n",
    "del newdf['loan_status']\n",
    "X=newdf"
   ]
  },
  {
   "cell_type": "code",
   "execution_count": 33,
   "metadata": {
    "collapsed": true
   },
   "outputs": [],
   "source": [
    "from sklearn.cross_validation import train_test_split"
   ]
  },
  {
   "cell_type": "code",
   "execution_count": 34,
   "metadata": {
    "collapsed": true
   },
   "outputs": [],
   "source": [
    "X_train, X_test, y_train, y_test = train_test_split(X, y, test_size=0.31, random_state=101)"
   ]
  },
  {
   "cell_type": "markdown",
   "metadata": {},
   "source": [
    "# KNN\n"
   ]
  },
  {
   "cell_type": "code",
   "execution_count": 42,
   "metadata": {},
   "outputs": [
    {
     "name": "stdout",
     "output_type": "stream",
     "text": [
      "Area under the ROC curve : 0.756843\n"
     ]
    }
   ],
   "source": [
    "from sklearn.neighbors import KNeighborsClassifier\n",
    "\n",
    "knn = KNeighborsClassifier(n_neighbors=3)\n",
    "\n",
    "knn_result=knn.fit(X_train,y_train)\n",
    "\n",
    "knn_pred = knn.predict(X_test)\n",
    "fpr3, tpr3, thresholds3 =roc_curve(y_test, knn_pred)\n",
    "roc_auc3 = auc(fpr3, tpr3)\n",
    "print(\"Area under the ROC curve : %f\" % roc_auc3)"
   ]
  },
  {
   "cell_type": "code",
   "execution_count": 359,
   "metadata": {},
   "outputs": [
    {
     "data": {
      "image/png": "[encoded data removed]",
      "text/plain": [
       "<matplotlib.figure.Figure at 0xd19b2a8518>"
      ]
     },
     "metadata": {},
     "output_type": "display_data"
    }
   ],
   "source": [
    "import matplotlib.pyplot as plt\n",
    "%matplotlib inline\n",
    "plt.figure()\n",
    "plt.plot(fpr3,tpr3,label='kNN, n=13(AUC = %0.2f)' % roc_auc3)\n",
    "\n",
    "plt.xlim(0, 1)\n",
    "plt.ylim(0, 1.05)\n",
    "plt.plot([0, 1], [0, 1],'k--')\n",
    "plt.xlabel('False Positive Rate')\n",
    "plt.ylabel('True Positive Rate')\n",
    "plt.legend(loc=\"lower right\")\n",
    "plt.show()"
   ]
  },
  {
   "cell_type": "code",
   "execution_count": 51,
   "metadata": {},
   "outputs": [
    {
     "name": "stdout",
     "output_type": "stream",
     "text": [
      "0.0017479617745 0.100386593006 0.00695357056279\n"
     ]
    }
   ],
   "source": [
    "from sklearn.metrics import mean_squared_error\n",
    "print(mean_squared_error(y_test, rf_pred),mean_squared_error(y_test, knn_pred),mean_squared_error(y_test, clf_pred))\n"
   ]
  },
  {
   "cell_type": "code",
   "execution_count": null,
   "metadata": {
    "collapsed": true
   },
   "outputs": [],
   "source": []
  },
  {
   "cell_type": "code",
   "execution_count": null,
   "metadata": {
    "collapsed": true
   },
   "outputs": [],
   "source": []
  },
  {
   "cell_type": "code",
   "execution_count": null,
   "metadata": {
    "collapsed": true
   },
   "outputs": [],
   "source": []
  },
  {
   "cell_type": "code",
   "execution_count": null,
   "metadata": {
    "collapsed": true
   },
   "outputs": [],
   "source": []
  },
  {
   "cell_type": "code",
   "execution_count": null,
   "metadata": {
    "collapsed": true
   },
   "outputs": [],
   "source": []
  },
  {
   "cell_type": "code",
   "execution_count": null,
   "metadata": {
    "collapsed": true
   },
   "outputs": [],
   "source": []
  },
  {
   "cell_type": "code",
   "execution_count": null,
   "metadata": {
    "collapsed": true
   },
   "outputs": [],
   "source": []
  },
  {
   "cell_type": "code",
   "execution_count": null,
   "metadata": {
    "collapsed": true
   },
   "outputs": [],
   "source": []
  },
  {
   "cell_type": "code",
   "execution_count": null,
   "metadata": {
    "collapsed": true
   },
   "outputs": [],
   "source": []
  },
  {
   "cell_type": "code",
   "execution_count": null,
   "metadata": {
    "collapsed": true
   },
   "outputs": [],
   "source": []
  },
  {
   "cell_type": "code",
   "execution_count": null,
   "metadata": {
    "collapsed": true
   },
   "outputs": [],
   "source": []
  },
  {
   "cell_type": "code",
   "execution_count": null,
   "metadata": {
    "collapsed": true
   },
   "outputs": [],
   "source": []
  },
  {
   "cell_type": "code",
   "execution_count": null,
   "metadata": {
    "collapsed": true
   },
   "outputs": [],
   "source": []
  },
  {
   "cell_type": "code",
   "execution_count": null,
   "metadata": {
    "collapsed": true
   },
   "outputs": [],
   "source": []
  },
  {
   "cell_type": "code",
   "execution_count": null,
   "metadata": {
    "collapsed": true
   },
   "outputs": [],
   "source": []
  },
  {
   "cell_type": "code",
   "execution_count": null,
   "metadata": {
    "collapsed": true
   },
   "outputs": [],
   "source": []
  },
  {
   "cell_type": "code",
   "execution_count": null,
   "metadata": {
    "collapsed": true
   },
   "outputs": [],
   "source": []
  },
  {
   "cell_type": "code",
   "execution_count": null,
   "metadata": {
    "collapsed": true
   },
   "outputs": [],
   "source": []
  },
  {
   "cell_type": "code",
   "execution_count": null,
   "metadata": {
    "collapsed": true
   },
   "outputs": [],
   "source": []
  },
  {
   "cell_type": "markdown",
   "metadata": {},
   "source": [
    "#useless doodling from now on...\n"
   ]
  },
  {
   "cell_type": "code",
   "execution_count": 52,
   "metadata": {
    "collapsed": true
   },
   "outputs": [],
   "source": [
    "one_hot_y_train = pd.get_dummies(y_train.as_matrix())\n",
    "one_hot_y_test = pd.get_dummies(y_test.as_matrix())"
   ]
  },
  {
   "cell_type": "code",
   "execution_count": 63,
   "metadata": {
    "collapsed": true
   },
   "outputs": [],
   "source": [
    "from sklearn.preprocessing import Normalizer\n",
    "norm = Normalizer()\n"
   ]
  },
  {
   "cell_type": "code",
   "execution_count": 139,
   "metadata": {
    "collapsed": true
   },
   "outputs": [],
   "source": [
    "norm_x_train = pd.DataFrame(norm.fit_transform(X_train))\n",
    "norm_x_test = norm.fit(X_test)"
   ]
  },
  {
   "cell_type": "code",
   "execution_count": 66,
   "metadata": {},
   "outputs": [
    {
     "data": {
      "text/plain": [
       "(174452, 34)"
      ]
     },
     "execution_count": 66,
     "metadata": {},
     "output_type": "execute_result"
    }
   ],
   "source": [
    "norm_x_train.shape"
   ]
  },
  {
   "cell_type": "code",
   "execution_count": 68,
   "metadata": {},
   "outputs": [
    {
     "data": {
      "text/plain": [
       "(174452, 34)"
      ]
     },
     "execution_count": 68,
     "metadata": {},
     "output_type": "execute_result"
    }
   ],
   "source": [
    "X_train.shape"
   ]
  },
  {
   "cell_type": "code",
   "execution_count": 72,
   "metadata": {
    "collapsed": true
   },
   "outputs": [],
   "source": [
    "from sklearn.decomposition import PCA as sklearnPCA\n",
    "sklearn_pca = sklearnPCA(n_components=34)\n",
    "Y_sklearn = sklearn_pca.fit_transform(norm_x_train)\n"
   ]
  },
  {
   "cell_type": "code",
   "execution_count": 76,
   "metadata": {},
   "outputs": [
    {
     "data": {
      "text/plain": [
       "(174452, 34)"
      ]
     },
     "execution_count": 76,
     "metadata": {},
     "output_type": "execute_result"
    }
   ],
   "source": [
    "Y_sklearn.shape"
   ]
  },
  {
   "cell_type": "code",
   "execution_count": 73,
   "metadata": {
    "scrolled": true
   },
   "outputs": [
    {
     "data": {
      "image/png": "[encoded data removed]",
      "text/plain": [
       "<matplotlib.figure.Figure at 0xd1a4689080>"
      ]
     },
     "metadata": {},
     "output_type": "display_data"
    }
   ],
   "source": [
    "plt.plot(Y_sklearn)\n",
    "plt.show()"
   ]
  },
  {
   "cell_type": "code",
   "execution_count": 79,
   "metadata": {},
   "outputs": [
    {
     "data": {
      "text/plain": [
       "Index(['id', 'member_id', 'loan_amnt', 'funded_amnt', 'funded_amnt_inv',\n",
       "       'term', 'int_rate', 'installment', 'grade', 'emp_length',\n",
       "       'home_ownership', 'annual_inc', 'verification_status', 'addr_state',\n",
       "       'dti', 'delinq_2yrs', 'inq_last_6mths', 'open_acc', 'pub_rec',\n",
       "       'revol_bal', 'total_acc', 'initial_list_status', 'out_prncp',\n",
       "       'out_prncp_inv', 'total_pymnt', 'total_pymnt_inv', 'total_rec_prncp',\n",
       "       'total_rec_int', 'total_rec_late_fee', 'recoveries',\n",
       "       'collection_recovery_fee', 'last_pymnt_amnt', 'policy_code',\n",
       "       'acc_now_delinq'],\n",
       "      dtype='object')"
      ]
     },
     "execution_count": 79,
     "metadata": {},
     "output_type": "execute_result"
    }
   ],
   "source": [
    "X_train.columns"
   ]
  },
  {
   "cell_type": "code",
   "execution_count": 210,
   "metadata": {
    "scrolled": true
   },
   "outputs": [
    {
     "data": {
      "text/plain": [
       "2"
      ]
     },
     "execution_count": 210,
     "metadata": {},
     "output_type": "execute_result"
    }
   ],
   "source": [
    "len(X_train['term'].unique())"
   ]
  },
  {
   "cell_type": "code",
   "execution_count": 99,
   "metadata": {
    "collapsed": true
   },
   "outputs": [],
   "source": [
    "cat_col = ['grade','term','emp_length','home_ownership','verification_status','addr_state']\n",
    "num_col = ['loan_amnt', 'funded_amnt', 'funded_amnt_inv',\n",
    "        'int_rate', 'installment', 'annual_inc',\n",
    "       'dti', 'delinq_2yrs', 'inq_last_6mths', 'open_acc', 'pub_rec',\n",
    "       'revol_bal', 'total_acc', 'initial_list_status', 'out_prncp',\n",
    "       'out_prncp_inv', 'total_pymnt', 'total_pymnt_inv', 'total_rec_prncp',\n",
    "       'total_rec_int', 'total_rec_late_fee', 'recoveries',\n",
    "       'collection_recovery_fee', 'last_pymnt_amnt', 'policy_code',\n",
    "       'acc_now_delinq']\n"
   ]
  },
  {
   "cell_type": "code",
   "execution_count": 357,
   "metadata": {
    "collapsed": true,
    "scrolled": true
   },
   "outputs": [],
   "source": [
    "# Categorical columns\n",
    "grade = tf.feature_column.categorical_column_with_hash_bucket('grade',hash_bucket_size=7,dtype=tf.int32)\n",
    "term = tf.feature_column.categorical_column_with_hash_bucket('term',hash_bucket_size=2,dtype=tf.int32)\n",
    "emp_length = tf.feature_column.categorical_column_with_hash_bucket('emp_length',hash_bucket_size=11,dtype=tf.int32)\n",
    "home_ownership = tf.feature_column.categorical_column_with_hash_bucket('home_ownership',hash_bucket_size=2,dtype=tf.int32)\n",
    "verification_status = tf.feature_column.categorical_column_with_hash_bucket('verification_status',hash_bucket_size=7,dtype=tf.int32)\n",
    "addr_state = tf.feature_column.categorical_column_with_hash_bucket('addr_state',hash_bucket_size=51,dtype=tf.int32)\n"
   ]
  },
  {
   "cell_type": "code",
   "execution_count": 358,
   "metadata": {},
   "outputs": [
    {
     "data": {
      "text/plain": [
       "_HashedCategoricalColumn(key='grade', hash_bucket_size=7, dtype=tf.int32)"
      ]
     },
     "execution_count": 358,
     "metadata": {},
     "output_type": "execute_result"
    }
   ],
   "source": [
    "grade"
   ]
  },
  {
   "cell_type": "code",
   "execution_count": null,
   "metadata": {
    "collapsed": true
   },
   "outputs": [],
   "source": []
  },
  {
   "cell_type": "code",
   "execution_count": null,
   "metadata": {
    "collapsed": true
   },
   "outputs": [],
   "source": []
  },
  {
   "cell_type": "code",
   "execution_count": null,
   "metadata": {
    "collapsed": true
   },
   "outputs": [],
   "source": []
  },
  {
   "cell_type": "code",
   "execution_count": 239,
   "metadata": {
    "collapsed": true
   },
   "outputs": [],
   "source": [
    "# Numeric columns\n",
    "loan_amnt= tf.feature_column.numeric_column('loan_amnt')\n",
    "funded_amnt= tf.feature_column.numeric_column('funded_amnt')\n",
    "int_rate= tf.feature_column.numeric_column('int_rate')\n",
    "installment= tf.feature_column.numeric_column('installment')\n",
    "annual_inc= tf.feature_column.numeric_column('annual_inc')\n",
    "dti= tf.feature_column.numeric_column('dti')\n",
    "delinq_2yrs= tf.feature_column.numeric_column('delinq_2yrs')\n",
    "inq_last_6mths= tf.feature_column.numeric_column('inq_last_6mths')\n",
    "open_acc= tf.feature_column.numeric_column('open_acc')\n",
    "pub_rec= tf.feature_column.numeric_column('pub_rec')\n",
    "revol_bal= tf.feature_column.numeric_column('revol_bal')\n",
    "total_acc= tf.feature_column.numeric_column('total_acc')\n",
    "initial_list_status= tf.feature_column.numeric_column('initial_list_status')\n",
    "out_prncp= tf.feature_column.numeric_column('out_prncp')\n",
    "total_pymnt= tf.feature_column.numeric_column('total_pymnt')\n",
    "total_rec_prncp= tf.feature_column.numeric_column('total_rec_prncp')\n",
    "total_rec_int= tf.feature_column.numeric_column('total_rec_int')\n",
    "total_rec_late_fee= tf.feature_column.numeric_column('total_rec_late_fee')\n",
    "recoveries= tf.feature_column.numeric_column('recoveries')\n",
    "collection_recovery_fee= tf.feature_column.numeric_column('collection_recovery_fee')\n",
    "last_pymnt_amnt= tf.feature_column.numeric_column('last_pymnt_amnt')\n",
    "policy_code= tf.feature_column.numeric_column('policy_code')\n",
    "acc_now_delinq= tf.feature_column.numeric_column('acc_now_delinq')\n"
   ]
  },
  {
   "cell_type": "code",
   "execution_count": null,
   "metadata": {
    "collapsed": true
   },
   "outputs": [],
   "source": [
    "\n",
    "            \n"
   ]
  },
  {
   "cell_type": "code",
   "execution_count": 339,
   "metadata": {
    "collapsed": true,
    "scrolled": true
   },
   "outputs": [],
   "source": [
    "feat_cols = [tf.feature_column.embedding_column(term,1),\n",
    "             tf.feature_column.embedding_column(home_ownership,2),\n",
    "             tf.feature_column.embedding_column(verification_status,2),\n",
    "             tf.feature_column.embedding_column(grade,2),\n",
    "             tf.feature_column.embedding_column(emp_length,2),\n",
    "             tf.feature_column.embedding_column(addr_state,2),\n",
    "             loan_amnt,funded_amnt,int_rate,installment,annual_inc,dti,delinq_2yrs,\n",
    "             inq_last_6mths,open_acc,pub_rec,revol_bal,total_acc,total_pymnt,\n",
    "            total_rec_int,total_rec_late_fee,total_rec_prncp,recoveries,\n",
    "             collection_recovery_fee,last_pymnt_amnt,\n",
    "            policy_code,acc_now_delinq\n",
    "             ]"
   ]
  },
  {
   "cell_type": "code",
   "execution_count": 340,
   "metadata": {
    "collapsed": true
   },
   "outputs": [],
   "source": [
    "input_func = tf.estimator.inputs.pandas_input_fn(x=X_train,y=y_train,batch_size=100,shuffle=True)"
   ]
  },
  {
   "cell_type": "code",
   "execution_count": null,
   "metadata": {
    "collapsed": true
   },
   "outputs": [],
   "source": []
  },
  {
   "cell_type": "code",
   "execution_count": 349,
   "metadata": {},
   "outputs": [
    {
     "name": "stdout",
     "output_type": "stream",
     "text": [
      "INFO:tensorflow:Using default config.\n",
      "WARNING:tensorflow:Using temporary folder as model directory: C:\\Users\\Rishab\\AppData\\Local\\Temp\\tmpfir66nlx\n",
      "INFO:tensorflow:Using config: {'_model_dir': 'C:\\\\Users\\\\Rishab\\\\AppData\\\\Local\\\\Temp\\\\tmpfir66nlx', '_num_worker_replicas': 1, '_session_config': None, '_task_type': 'worker', '_num_ps_replicas': 0, '_tf_random_seed': None, '_is_chief': True, '_service': None, '_keep_checkpoint_max': 5, '_keep_checkpoint_every_n_hours': 10000, '_log_step_count_steps': 100, '_save_checkpoints_steps': None, '_cluster_spec': <tensorflow.python.training.server_lib.ClusterSpec object at 0x000000D1EFE90400>, '_task_id': 0, '_save_checkpoints_secs': 600, '_master': '', '_save_summary_steps': 100}\n"
     ]
    }
   ],
   "source": [
    "dnn_model = tf.estimator.DNNClassifier(hidden_units=[34,34,34,34,34],feature_columns=feat_cols,n_classes=2,)"
   ]
  },
  {
   "cell_type": "code",
   "execution_count": 350,
   "metadata": {
    "scrolled": true
   },
   "outputs": [
    {
     "name": "stdout",
     "output_type": "stream",
     "text": [
      "INFO:tensorflow:Create CheckpointSaverHook.\n",
      "INFO:tensorflow:Saving checkpoints for 1 into C:\\Users\\Rishab\\AppData\\Local\\Temp\\tmpfir66nlx\\model.ckpt.\n",
      "INFO:tensorflow:loss = 66.779, step = 1\n",
      "INFO:tensorflow:global_step/sec: 118.259\n",
      "INFO:tensorflow:loss = 50.9097, step = 101 (0.848 sec)\n",
      "INFO:tensorflow:global_step/sec: 146.739\n",
      "INFO:tensorflow:loss = 43.3741, step = 201 (0.687 sec)\n",
      "INFO:tensorflow:global_step/sec: 152.331\n",
      "INFO:tensorflow:loss = 43.3599, step = 301 (0.650 sec)\n",
      "INFO:tensorflow:global_step/sec: 137.449\n",
      "INFO:tensorflow:loss = 46.97, step = 401 (0.732 sec)\n",
      "INFO:tensorflow:global_step/sec: 154.45\n",
      "INFO:tensorflow:loss = 42.8476, step = 501 (0.643 sec)\n",
      "INFO:tensorflow:global_step/sec: 132.356\n",
      "INFO:tensorflow:loss = 49.7323, step = 601 (0.756 sec)\n",
      "INFO:tensorflow:global_step/sec: 152.797\n",
      "INFO:tensorflow:loss = 40.9075, step = 701 (0.654 sec)\n",
      "INFO:tensorflow:global_step/sec: 125.064\n",
      "INFO:tensorflow:loss = 36.453, step = 801 (0.800 sec)\n",
      "INFO:tensorflow:global_step/sec: 142.556\n",
      "INFO:tensorflow:loss = 56.2044, step = 901 (0.702 sec)\n",
      "INFO:tensorflow:global_step/sec: 149.595\n",
      "INFO:tensorflow:loss = 43.2268, step = 1001 (0.673 sec)\n",
      "INFO:tensorflow:global_step/sec: 129.777\n",
      "INFO:tensorflow:loss = 49.9993, step = 1101 (0.766 sec)\n",
      "INFO:tensorflow:global_step/sec: 147.824\n",
      "INFO:tensorflow:loss = 38.8936, step = 1201 (0.682 sec)\n",
      "INFO:tensorflow:global_step/sec: 138.983\n",
      "INFO:tensorflow:loss = 51.568, step = 1301 (0.725 sec)\n",
      "INFO:tensorflow:global_step/sec: 119.675\n",
      "INFO:tensorflow:loss = 43.8595, step = 1401 (0.830 sec)\n",
      "INFO:tensorflow:global_step/sec: 131.141\n",
      "INFO:tensorflow:loss = 29.1268, step = 1501 (0.771 sec)\n",
      "INFO:tensorflow:global_step/sec: 133.239\n",
      "INFO:tensorflow:loss = 48.0647, step = 1601 (0.741 sec)\n",
      "INFO:tensorflow:global_step/sec: 131.313\n",
      "INFO:tensorflow:loss = 43.3246, step = 1701 (0.760 sec)\n",
      "INFO:tensorflow:Saving checkpoints for 1745 into C:\\Users\\Rishab\\AppData\\Local\\Temp\\tmpfir66nlx\\model.ckpt.\n",
      "INFO:tensorflow:Loss for final step: 31.5349.\n"
     ]
    },
    {
     "data": {
      "text/plain": [
       "<tensorflow.python.estimator.canned.dnn.DNNClassifier at 0xd1efe90c88>"
      ]
     },
     "execution_count": 350,
     "metadata": {},
     "output_type": "execute_result"
    }
   ],
   "source": [
    "dnn_model.train(input_fn=input_func,steps=2000)"
   ]
  },
  {
   "cell_type": "code",
   "execution_count": 351,
   "metadata": {
    "collapsed": true
   },
   "outputs": [],
   "source": [
    "eval_input_func = tf.estimator.inputs.pandas_input_fn(X_test,y=y_test,batch_size=100,num_epochs=1,shuffle=False)"
   ]
  },
  {
   "cell_type": "code",
   "execution_count": 352,
   "metadata": {
    "scrolled": true
   },
   "outputs": [
    {
     "name": "stdout",
     "output_type": "stream",
     "text": [
      "WARNING:tensorflow:Casting <dtype: 'float32'> labels to bool.\n",
      "WARNING:tensorflow:Casting <dtype: 'float32'> labels to bool.\n",
      "INFO:tensorflow:Starting evaluation at 2018-02-19-10:32:25\n",
      "INFO:tensorflow:Restoring parameters from C:\\Users\\Rishab\\AppData\\Local\\Temp\\tmpfir66nlx\\model.ckpt-1745\n",
      "INFO:tensorflow:Finished evaluation at 2018-02-19-10:32:32\n",
      "INFO:tensorflow:Saving dict for global step 1745: accuracy = 0.821223, accuracy_baseline = 0.821223, auc = 0.632283, auc_precision_recall = 0.877125, average_loss = 0.453877, global_step = 1745, label/mean = 0.821223, loss = 45.3744, prediction/mean = 0.825893\n"
     ]
    },
    {
     "data": {
      "text/plain": [
       "{'accuracy': 0.82122308,\n",
       " 'accuracy_baseline': 0.82122308,\n",
       " 'auc': 0.63228267,\n",
       " 'auc_precision_recall': 0.87712538,\n",
       " 'average_loss': 0.45387712,\n",
       " 'global_step': 1745,\n",
       " 'label/mean': 0.82122308,\n",
       " 'loss': 45.374397,\n",
       " 'prediction/mean': 0.82589322}"
      ]
     },
     "execution_count": 352,
     "metadata": {},
     "output_type": "execute_result"
    }
   ],
   "source": [
    "dnn_model.evaluate(eval_input_func)"
   ]
  },
  {
   "cell_type": "code",
   "execution_count": 353,
   "metadata": {
    "collapsed": true
   },
   "outputs": [],
   "source": [
    "pred_input_func = tf.estimator.inputs.pandas_input_fn(X_test,batch_size=100,shuffle=False)"
   ]
  },
  {
   "cell_type": "code",
   "execution_count": 354,
   "metadata": {},
   "outputs": [
    {
     "name": "stdout",
     "output_type": "stream",
     "text": [
      "INFO:tensorflow:Restoring parameters from C:\\Users\\Rishab\\AppData\\Local\\Temp\\tmpfir66nlx\\model.ckpt-1745\n"
     ]
    }
   ],
   "source": [
    "predictions = list(dnn_model.predict(pred_input_func))"
   ]
  },
  {
   "cell_type": "code",
   "execution_count": 355,
   "metadata": {
    "collapsed": true
   },
   "outputs": [],
   "source": [
    "final_preds = []\n",
    "for pred in predictions:\n",
    "    final_preds.append(pred['class_ids'][0])"
   ]
  },
  {
   "cell_type": "code",
   "execution_count": null,
   "metadata": {
    "collapsed": true
   },
   "outputs": [],
   "source": []
  }
 ],
 "metadata": {
  "kernelspec": {
   "display_name": "tensor",
   "language": "python",
   "name": "tensor"
  },
  "language_info": {
   "codemirror_mode": {
    "name": "ipython",
    "version": 3
   },
   "file_extension": ".py",
   "mimetype": "text/x-python",
   "name": "python",
   "nbconvert_exporter": "python",
   "pygments_lexer": "ipython3",
   "version": "3.5.3"
  }
 },
 "nbformat": 4,
 "nbformat_minor": 2
}
